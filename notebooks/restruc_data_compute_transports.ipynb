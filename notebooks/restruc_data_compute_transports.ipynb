{
 "cells": [
  {
   "cell_type": "markdown",
   "id": "dced05af-6a2b-419b-8079-90b62db04cf2",
   "metadata": {},
   "source": [
    "# 10/31 Redoing (again) current restructure_data_compute_transports\n",
    "## generalize transects "
   ]
  },
  {
   "cell_type": "code",
   "execution_count": 19,
   "id": "a09ce4a3-3d72-4418-96ce-a159b32e4b23",
   "metadata": {},
   "outputs": [
    {
     "name": "stdout",
     "output_type": "stream",
     "text": [
      "The autoreload extension is already loaded. To reload it, use:\n",
      "  %reload_ext autoreload\n"
     ]
    }
   ],
   "source": [
    "%load_ext autoreload\n",
    "%autoreload 2"
   ]
  },
  {
   "cell_type": "code",
   "execution_count": 20,
   "id": "70746e9f-2cce-4ff9-a992-107019a78557",
   "metadata": {},
   "outputs": [],
   "source": [
    "#Packages \n",
    "import numpy as np\n",
    "import xarray as xr\n",
    "import cmocean.cm as cmo\n",
    "import matplotlib.pyplot as plt\n",
    "import mpas_tools\n",
    "\n",
    "from geometric_features import GeometricFeatures\n",
    "from geometric_features import read_feature_collection\n",
    "\n",
    "from mpas_tools.mesh.mask import compute_mpas_region_masks\n",
    "from mpas_tools.parallel import create_pool\n",
    "from mpas_tools.io import write_netcdf\n",
    "\n",
    "import geojson\n",
    "import json\n",
    "import mosaic\n",
    "import os.path\n",
    "import mpasregions.sections as mps\n",
    "import gsw\n",
    "import warnings \n",
    "import glob\n",
    "from xgcm import Grid"
   ]
  },
  {
   "cell_type": "code",
   "execution_count": 21,
   "id": "414a1e90-5d0b-4a60-a53f-3a724d6bb74e",
   "metadata": {},
   "outputs": [],
   "source": [
    "# open mesh and filepaths\n",
    "# global mesh\n",
    "mesh_path = '/global/cfs/projectdirs/e3sm/inputdata/ocn/mpas-o/EC30to60E2r2/ocean.EC30to60E2r2.210210.nc'\n",
    "mesh = xr.open_dataset(mesh_path)\n",
    "mesh = mesh.assign_coords({\n",
    "\"VertexID\": xr.DataArray(mesh.indexToVertexID, dims=('nVertices',)),\n",
    "})\n",
    "\n",
    "# global data\n",
    "bmm_filepath = '/pscratch/sd/b/bmoorema/run_001_062/'\n",
    "# dso = xr.open_dataset(bmm_filepath + '20210421_sim7_CORE_60to30E2r2.mpaso.hist.am.timeSeriesStatsMonthly.0063-12-01.nc', decode_timedelta=True)\n",
    "\n",
    "# open base mask that we will fill with 0s according to the original mask (this new mask will contain cells PLUS their corresponding edges and vertices)\n",
    "# base_mask = xr.open_dataset('./mpas-o_EC30to60_global_base_mask.nc')\n"
   ]
  },
  {
   "cell_type": "code",
   "execution_count": 22,
   "id": "76bc1419-c75a-4125-9c62-98b7fe0baa10",
   "metadata": {},
   "outputs": [],
   "source": [
    "# open datasets with just the variables that we want\n",
    "\n",
    "months = ['01','02','03','04','05','06','07','08','09','10','11','12']\n",
    "ds_list = []\n",
    "\n",
    "prefix = '20210421_sim7_CORE_60to30E2r2.mpaso.hist.am.timeSeriesStats'\n",
    "\n",
    "year = 3 # int\n",
    "with warnings.catch_warnings():\n",
    "    warnings.simplefilter(\"ignore\")\n",
    "    for i in range(0,12):\n",
    "        month = months[i]\n",
    "        file = prefix + f'Monthly.{str(year).zfill(4)}-{month}-01.nc'\n",
    "        file_glob = glob.glob(file)\n",
    "        ds = xr.open_dataset(bmm_filepath + file)[['xtime_startMonthly','timeMonthly_avg_normalVelocity','timeMonthly_avg_potentialDensity','timeMonthly_avg_layerThickness',\n",
    "                                                   'nCells','nEdges','nVertLevels','nVertLevelsP1']]\n",
    "        ds_xtime_startMonthly = ds.swap_dims({'Time':'xtime_startMonthly'})\n",
    "        ds_list.append(ds_xtime_startMonthly)\n",
    "\n",
    "dss = xr.concat(ds_list,dim='xtime_startMonthly')"
   ]
  },
  {
   "cell_type": "code",
   "execution_count": 23,
   "id": "ea4cd709-d899-4c23-963f-0d22df080245",
   "metadata": {},
   "outputs": [],
   "source": [
    "ds = mps.add_grid_info_coords(mesh,dss)"
   ]
  },
  {
   "cell_type": "code",
   "execution_count": 24,
   "id": "23add010-0a65-418b-b142-b804ebd28c67",
   "metadata": {},
   "outputs": [],
   "source": [
    "# set up descriptor for plotting \n",
    "\n",
    "mesh.attrs['is_periodic'] = 'YES'\n",
    "mesh.attrs['x_period'] = 360\n",
    "mesh.attrs['y_period'] = 0.0\n",
    "\n",
    "descriptor = mosaic.Descriptor(mesh,use_latlon=False)"
   ]
  },
  {
   "cell_type": "code",
   "execution_count": 25,
   "id": "deff6d5a-4beb-4b9c-9770-b5a75d8f7a3e",
   "metadata": {},
   "outputs": [
    {
     "name": "stdout",
     "output_type": "stream",
     "text": [
      "Opening LS_test_transect_from_mask.nc file as mask\n"
     ]
    }
   ],
   "source": [
    "# get edges and vertices of mask made from mask\n",
    "mask_edges, mask_vertices, mask = mps.open_from_mask(mesh)"
   ]
  },
  {
   "cell_type": "markdown",
   "id": "ba262aeb-a2e3-4739-a36d-a313fd30f11d",
   "metadata": {},
   "source": [
    "# crate mask from geojson"
   ]
  },
  {
   "cell_type": "code",
   "execution_count": 33,
   "id": "a78be0d3-2769-413c-ac85-e3fe09a48e8b",
   "metadata": {},
   "outputs": [
    {
     "name": "stdout",
     "output_type": "stream",
     "text": [
      "Creating .nc file\n",
      "Using EOSNAP.geojson to create .nc file\n",
      "EOSNAP.nc created and opened as masks\n"
     ]
    }
   ],
   "source": [
    "# mask_edges, mask_vertices, mask = open_from_mask(ds)"
   ]
  },
  {
   "cell_type": "code",
   "execution_count": 38,
   "id": "e40d74d1-59ea-4c78-a91c-add31edbdc58",
   "metadata": {},
   "outputs": [
    {
     "name": "stdout",
     "output_type": "stream",
     "text": [
      "Opening EOSNAP.nc file as mask\n"
     ]
    }
   ],
   "source": [
    "mask_path = './'\n",
    "mask_filename = 'EOSNAP'\n",
    "maks_edges, mask_vertices, mask = mps.open_from_mask(ds, mask_path, mask_filename)"
   ]
  },
  {
   "cell_type": "markdown",
   "id": "fa92e796-28f7-4340-8cc1-199924cd0b65",
   "metadata": {},
   "source": [
    "# Create mask from transect"
   ]
  },
  {
   "cell_type": "code",
   "execution_count": 27,
   "id": "53319e07-45b0-44c8-8878-e060beab22fd",
   "metadata": {},
   "outputs": [],
   "source": [
    "# path = './'\n",
    "# filename = 'SO_region_test1'\n",
    "# geojson_file_name = 'Southern Ocean region encomapssing Drake passage from transect algorithm'\n",
    "# tags = \"Southern_Ocean\"\n",
    "# author = \"Kaila Uyeda\"\n",
    "\n",
    "# lats = np.array([-75,-50,-50,-75])\n",
    "# lons = np.array([250, 250, 350, 350])\n",
    "# alg_edges, alg_vertices, mask = mps.open_transect_from_alg(ds,lats,lons,path,filename,geojson_file_name,tags,author)"
   ]
  },
  {
   "cell_type": "code",
   "execution_count": 28,
   "id": "b54b16a0-052d-49b1-b6f0-ca6274ea0abe",
   "metadata": {},
   "outputs": [],
   "source": [
    "# # plot this masked region\n",
    "# fig,ax = plt.subplots(nrows=1,ncols=1,constrained_layout=True,figsize=(14,10))\n",
    "\n",
    "# # LS the target start and end points when creating the algorithm\n",
    "# ax.plot(lons, lats, color='blue',label='1. target_start and end')\n",
    "\n",
    "# # plot the cellmask created from the cell centers in the mask (id'd with MPAS-tools)\n",
    "# # we don't need to worry about the mps.find_and_sort_transect_edges_and_vertices function because \n",
    "# # the cell centers will always be inside the mask\n",
    "# # create cellmasks (which cells centers are included in the masked region)\n",
    "\n",
    "# cellmask = mask.regionCellMasks.isel(nRegions=0).astype(bool)\n",
    "# c = mosaic.polypcolor(ax,descriptor,\n",
    "#                   cellmask.astype(int),cmap='cool',alpha = 0.5,\n",
    "#                   antialiaseds=False, label = '2. Cell Centers')\n",
    "\n",
    "# fig.colorbar(c, extend='both')\n",
    "\n",
    "# # LS (lats and lons of vertices from transect)\n",
    "# # ax.scatter(test_verts_lons + 360,test_verts_lats, s=60,marker='^',color='orange',label='3. test_verts')\n",
    "\n",
    "\n",
    "# # plot using vertex lats and lons (removed vertices on cells not in the mask)\n",
    "# vertex_lons = ds.lonVertex.isel(nVertices = alg_vertices) * 180 / np.pi\n",
    "# vertex_lats = ds.latVertex.isel(nVertices = alg_vertices) * 180 / np.pi\n",
    "\n",
    "# # plot the vertices after removing where there are duplicates. \n",
    "# # the colorbar shows the index of the lons and lats for each vertex \n",
    "# # (since it is a gradient --> the vertex lats and lons are in order)\n",
    "# ax.scatter(vertex_lons,vertex_lats,c=np.arange(0,len(vertex_lons)),label='3. alg_verts')\n",
    "\n",
    "# ax.set_ylim(-80,-40)\n",
    "# ax.set_xlim(240,360)\n",
    "\n",
    "# ax.set_title('Vertex locations determined by each step in creating transects from algorithm')\n",
    "# ax.legend()\n",
    "\n",
    "# #fig.suptitle('Grid variables from mask made from transect algorithm + MPAS-Tools')"
   ]
  },
  {
   "cell_type": "markdown",
   "id": "5bc2e8a3-2d10-45ec-b944-a770120ca91c",
   "metadata": {},
   "source": [
    "# calculate transports in density space using functions s.t. we only need to specify lats, lons, file attributes, and target remap coords"
   ]
  },
  {
   "cell_type": "code",
   "execution_count": null,
   "id": "aa39e6ff-698b-472b-9173-ca81aa241a9a",
   "metadata": {},
   "outputs": [],
   "source": []
  },
  {
   "cell_type": "code",
   "execution_count": 29,
   "id": "06d24bc7-0d46-4025-aa50-07add294839d",
   "metadata": {},
   "outputs": [
    {
     "name": "stdout",
     "output_type": "stream",
     "text": [
      "SO_region_test1_transect_from_alg.geojson exists!\n",
      "Opening SO_region_test1_transect_from_alg.nc as dsMasks\n"
     ]
    }
   ],
   "source": [
    "path = './'\n",
    "filename = 'SO_region_test1'\n",
    "geojson_file_name = 'Southern Ocean region encomapssing Drake passage from transect algorithm'\n",
    "tags = \"Southern_Ocean\"\n",
    "author = \"Kaila Uyeda\"\n",
    "\n",
    "lats = np.array([-75,-50,-50,-75])\n",
    "lons = np.array([250, 250, 350, 350])\n",
    "# alg_edges, alg_vertices, mask = mps.open_transect_from_alg(ds,lats,lons,path,filename,geojson_file_name,tags,author)\n",
    "\n",
    "\n",
    "# method = 'alg' # 'mask'\n",
    "\n",
    "# # the only option is alg rn \n",
    "\n",
    "# if method == 'alg':\n",
    "#     edges, vertices = alg_edges, alg_vertices\n",
    "#     mask = mask\n",
    "\n",
    "target_coords = np.linspace(1022,1029,100)\n",
    "# dss_transect_edges_vIM, transport_transformed_cons = mps.transport_in_density_space_from_ds(ds,edges, mask, target_coords)\n",
    "\n",
    "edges, vertices, mask, dss_transect_edges_vIM, transport_transformed_cons = mps.transports_in_density_space_all_functions(ds,lats,lons,path,filename,geojson_file_name,tags,author, target_coords)\n",
    "    "
   ]
  },
  {
   "cell_type": "code",
   "execution_count": 30,
   "id": "9335a5fc-e03d-4b88-a98d-7807493b9ac2",
   "metadata": {},
   "outputs": [
    {
     "data": {
      "text/plain": [
       "[<matplotlib.lines.Line2D at 0x7f9f731e0910>]"
      ]
     },
     "execution_count": 30,
     "metadata": {},
     "output_type": "execute_result"
    },
    {
     "data": {
      "image/png": "[encoded data removed]",
      "text/plain": [
       "<Figure size 640x480 with 1 Axes>"
      ]
     },
     "metadata": {},
     "output_type": "display_data"
    }
   ],
   "source": [
    "total_transport_Edge = transport_transformed_cons.sum('nEdges').mean(dim=['xtime_startMonthly','TWO'])\n",
    "# we want to cumsum from bottom to top\n",
    "\n",
    "# flip the array so bottom is now the first index\n",
    "np.flipud(total_transport_Edge)\n",
    "\n",
    "# cumsum this new array (this cumsums bottom (index=0) to top (index=49)\n",
    "np.flipud(total_transport_Edge).cumsum()\n",
    "\n",
    "# flip the array again to get cumsum bottom values back at the last index\n",
    "cs_total_transport_Edge = np.flipud(np.flipud(total_transport_Edge).cumsum(axis=0))\n",
    "\n",
    "plt.plot(cs_total_transport_Edge, target_coords[0:99],marker='.')\n",
    "plt.gca().invert_yaxis()\n",
    "plt.plot(np.zeros(2), np.array([1022,1028]))"
   ]
  },
  {
   "cell_type": "code",
   "execution_count": null,
   "id": "b918f524-5996-483f-81b8-9d132bbf2081",
   "metadata": {},
   "outputs": [],
   "source": []
  }
 ],
 "metadata": {
  "kernelspec": {
   "display_name": "lanl_env",
   "language": "python",
   "name": "lanl_env"
  },
  "language_info": {
   "codemirror_mode": {
    "name": "ipython",
    "version": 3
   },
   "file_extension": ".py",
   "mimetype": "text/x-python",
   "name": "python",
   "nbconvert_exporter": "python",
   "pygments_lexer": "ipython3",
   "version": "3.13.3"
  }
 },
 "nbformat": 4,
 "nbformat_minor": 5
}
